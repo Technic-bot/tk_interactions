{
 "cells": [
  {
   "cell_type": "code",
   "execution_count": 6,
   "metadata": {},
   "outputs": [],
   "source": [
    "import requests\n",
    "from bs4 import BeautifulSoup"
   ]
  },
  {
   "cell_type": "code",
   "execution_count": 2,
   "metadata": {},
   "outputs": [],
   "source": [
    "forum_url='https://www.twokinds.net/forum/'\n",
    "discussion_url=forum_url+\"viewforum.php?f=1&start={}\"\n"
   ]
  },
  {
   "cell_type": "code",
   "execution_count": 4,
   "metadata": {},
   "outputs": [],
   "source": [
    "r = requests.get(discussion_url.format(1))"
   ]
  },
  {
   "cell_type": "code",
   "execution_count": 7,
   "metadata": {},
   "outputs": [],
   "source": [
    "sopa=BeautifulSoup(r.text,'html.parser')"
   ]
  },
  {
   "cell_type": "code",
   "execution_count": 11,
   "metadata": {},
   "outputs": [
    {
     "name": "stdout",
     "output_type": "stream",
     "text": [
      "2\n"
     ]
    }
   ],
   "source": [
    "listas=sopa.find_all(class_='topiclist topics')\n",
    "print(len(listas))"
   ]
  },
  {
   "cell_type": "code",
   "execution_count": 19,
   "metadata": {},
   "outputs": [
    {
     "name": "stdout",
     "output_type": "stream",
     "text": [
      "-1\n",
      "<a class=\"topictitle\" href=\"./viewtopic.php?f=1&amp;t=18521&amp;sid=1db7ae6bfce4002b7ce90fb2253b82d5\">Twokinds search [engine(s)]</a>\n",
      "-1\n",
      "<a class=\"topictitle\" href=\"./viewtopic.php?f=1&amp;t=18124&amp;sid=1db7ae6bfce4002b7ce90fb2253b82d5\">Twokinds available in CBZ, PDF and ZIP format</a>\n",
      "-1\n",
      "<a class=\"topictitle\" href=\"./viewtopic.php?f=1&amp;t=5499&amp;sid=1db7ae6bfce4002b7ce90fb2253b82d5\">Before you post your new theory (Common Questions and Ideas)</a>\n",
      "-1\n",
      "<a class=\"topictitle\" href=\"./viewtopic.php?f=1&amp;t=14523&amp;sid=1db7ae6bfce4002b7ce90fb2253b82d5\">Toms Ustream Channel (LiveStream as well)</a>\n",
      "-1\n",
      "<a class=\"topictitle\" href=\"./viewtopic.php?f=1&amp;t=14837&amp;sid=1db7ae6bfce4002b7ce90fb2253b82d5\">\"Speech Bubble\"-less Comics</a>\n",
      "-1\n",
      "<a class=\"topictitle\" href=\"./viewtopic.php?f=1&amp;t=19076&amp;sid=1db7ae6bfce4002b7ce90fb2253b82d5\">Panel Shuffle Archive</a>\n",
      "-1\n",
      "<a class=\"topictitle\" href=\"./viewtopic.php?f=1&amp;t=20791&amp;sid=1db7ae6bfce4002b7ce90fb2253b82d5\">Comic for March 27, 2021: Follow that Squirrel</a>\n",
      "-1\n",
      "<a class=\"topictitle\" href=\"./viewtopic.php?f=1&amp;t=20793&amp;sid=1db7ae6bfce4002b7ce90fb2253b82d5\">Comic for April 14, 2021: No Hard Feelings</a>\n",
      "-1\n",
      "<a class=\"topictitle\" href=\"./viewtopic.php?f=1&amp;t=20681&amp;sid=1db7ae6bfce4002b7ce90fb2253b82d5\">ERIC JUST KISS HER ALREADY</a>\n",
      "-1\n",
      "<a class=\"topictitle\" href=\"./viewtopic.php?f=1&amp;t=20330&amp;sid=1db7ae6bfce4002b7ce90fb2253b82d5\">TwoKinds [of] data</a>\n",
      "-1\n",
      "<a class=\"topictitle\" href=\"./viewtopic.php?f=1&amp;t=20789&amp;sid=1db7ae6bfce4002b7ce90fb2253b82d5\">Comic for March 24, 2021: Seeing Things</a>\n",
      "-1\n",
      "<a class=\"topictitle\" href=\"./viewtopic.php?f=1&amp;t=20712&amp;sid=1db7ae6bfce4002b7ce90fb2253b82d5\">Anouncing... TWOKINDS THE ANIMATION!</a>\n",
      "-1\n",
      "<a class=\"topictitle\" href=\"./viewtopic.php?f=1&amp;t=19811&amp;sid=1db7ae6bfce4002b7ce90fb2253b82d5\">Sketch of the Day</a>\n",
      "-1\n",
      "<a class=\"topictitle\" href=\"./viewtopic.php?f=1&amp;t=20788&amp;sid=1db7ae6bfce4002b7ce90fb2253b82d5\">Comic for March 20, 2021: Remus' Downfall</a>\n",
      "-1\n",
      "<a class=\"topictitle\" href=\"./viewtopic.php?f=1&amp;t=20716&amp;sid=1db7ae6bfce4002b7ce90fb2253b82d5\">What Will Happen Next After Everyone Leaves the Estate?</a>\n",
      "-1\n",
      "<a class=\"topictitle\" href=\"./viewtopic.php?f=1&amp;t=20787&amp;sid=1db7ae6bfce4002b7ce90fb2253b82d5\">Comic For March 18, 2021: Remus Revenge</a>\n",
      "-1\n",
      "<a class=\"topictitle\" href=\"./viewtopic.php?f=1&amp;t=20784&amp;sid=1db7ae6bfce4002b7ce90fb2253b82d5\">Comic for March 3rd, 2021: The Wolf's Jewels</a>\n",
      "-1\n",
      "<a class=\"topictitle\" href=\"./viewtopic.php?f=1&amp;t=20781&amp;sid=1db7ae6bfce4002b7ce90fb2253b82d5\">Comic for February 20, 2021: Nibs Goes Nuts</a>\n",
      "-1\n",
      "<a class=\"topictitle\" href=\"./viewtopic.php?f=1&amp;t=20768&amp;sid=1db7ae6bfce4002b7ce90fb2253b82d5\">Should Tom finnaly dress Kathrin up?</a>\n",
      "-1\n",
      "<a class=\"topictitle\" href=\"./viewtopic.php?f=1&amp;t=20771&amp;sid=1db7ae6bfce4002b7ce90fb2253b82d5\">Comic for February 7, 2021: Poisonous Friendship</a>\n",
      "-1\n",
      "<a class=\"topictitle\" href=\"./viewtopic.php?f=1&amp;t=20779&amp;sid=1db7ae6bfce4002b7ce90fb2253b82d5\">Keidran aging vs human/basitin</a>\n",
      "-1\n",
      "<a class=\"topictitle\" href=\"./viewtopic.php?f=1&amp;t=20774&amp;sid=1db7ae6bfce4002b7ce90fb2253b82d5\">Comic for February 12, 2021: Defending her Wolf</a>\n",
      "-1\n",
      "<a class=\"topictitle\" href=\"./viewtopic.php?f=1&amp;t=20764&amp;sid=1db7ae6bfce4002b7ce90fb2253b82d5\">Comic for January 21, 2021: The Value of Brutus</a>\n",
      "-1\n",
      "<a class=\"topictitle\" href=\"./viewtopic.php?f=1&amp;t=20770&amp;sid=1db7ae6bfce4002b7ce90fb2253b82d5\">Before the Basitin Isles then after What's Left?</a>\n",
      "-1\n",
      "<a class=\"topictitle\" href=\"./viewtopic.php?f=1&amp;t=20758&amp;sid=1db7ae6bfce4002b7ce90fb2253b82d5\">Comic for January 2, 2021: Cow and Roast Chicken</a>\n",
      "-1\n",
      "<a class=\"topictitle\" href=\"./viewtopic.php?f=1&amp;t=18737&amp;sid=1db7ae6bfce4002b7ce90fb2253b82d5\">The Keidran Times, a TwoKinds newspaper</a>\n",
      "-1\n",
      "<a class=\"topictitle\" href=\"./viewtopic.php?f=1&amp;t=20694&amp;sid=1db7ae6bfce4002b7ce90fb2253b82d5\">Is Tom Ok?</a>\n",
      "-1\n",
      "<a class=\"topictitle\" href=\"./viewtopic.php?f=1&amp;t=20757&amp;sid=1db7ae6bfce4002b7ce90fb2253b82d5\">Comic for December 31, 2020: Dungeon Wolves</a>\n",
      "-1\n",
      "<a class=\"topictitle\" href=\"./viewtopic.php?f=1&amp;t=20747&amp;sid=1db7ae6bfce4002b7ce90fb2253b82d5\">Comic for December 19, 2020: Streaking Dragon</a>\n",
      "-1\n",
      "<a class=\"topictitle\" href=\"./viewtopic.php?f=1&amp;t=19060&amp;sid=1db7ae6bfce4002b7ce90fb2253b82d5\">Fav Twokinds Ships?</a>\n",
      "-1\n",
      "<a class=\"topictitle\" href=\"./viewtopic.php?f=1&amp;t=20740&amp;sid=1db7ae6bfce4002b7ce90fb2253b82d5\">Comic for November 30, 2020: Simulation Ended</a>\n",
      "-1\n",
      "<a class=\"topictitle\" href=\"./viewtopic.php?f=1&amp;t=20734&amp;sid=1db7ae6bfce4002b7ce90fb2253b82d5\">Comic for November 14, 2020: Shoot for the Moon</a>\n",
      "-1\n",
      "<a class=\"topictitle\" href=\"./viewtopic.php?f=1&amp;t=20733&amp;sid=1db7ae6bfce4002b7ce90fb2253b82d5\">Comic for November 11th, 2020: A Way Out</a>\n",
      "-1\n",
      "<a class=\"topictitle\" href=\"./viewtopic.php?f=1&amp;t=20731&amp;sid=1db7ae6bfce4002b7ce90fb2253b82d5\">Comic for November 7, 2020: Closing In</a>\n",
      "-1\n",
      "<a class=\"topictitle\" href=\"./viewtopic.php?f=1&amp;t=20728&amp;sid=1db7ae6bfce4002b7ce90fb2253b82d5\">Comic for October 24, 2020: Detritus and Stone</a>\n",
      "-1\n",
      "<a class=\"topictitle\" href=\"./viewtopic.php?f=1&amp;t=20727&amp;sid=1db7ae6bfce4002b7ce90fb2253b82d5\">Filler for October 22, 2020: Twokinds 17th Anniversary!</a>\n",
      "-1\n",
      "<a class=\"topictitle\" href=\"./viewtopic.php?f=1&amp;t=20726&amp;sid=1db7ae6bfce4002b7ce90fb2253b82d5\">Comic for October 10, 2020: Body Snatcher</a>\n",
      "-1\n",
      "<a class=\"topictitle\" href=\"./viewtopic.php?f=1&amp;t=20724&amp;sid=1db7ae6bfce4002b7ce90fb2253b82d5\">Comic for October 4, 2020: Detritus</a>\n",
      "-1\n",
      "<a class=\"topictitle\" href=\"./viewtopic.php?f=1&amp;t=20723&amp;sid=1db7ae6bfce4002b7ce90fb2253b82d5\">Comic for September 23, 2020: Hunted</a>\n",
      "-1\n",
      "<a class=\"topictitle\" href=\"./viewtopic.php?f=1&amp;t=20722&amp;sid=1db7ae6bfce4002b7ce90fb2253b82d5\">Comic for September 12, 2020: Entering and Breaking</a>\n",
      "-1\n",
      "<a class=\"topictitle\" href=\"./viewtopic.php?f=1&amp;t=20718&amp;sid=1db7ae6bfce4002b7ce90fb2253b82d5\">Comic for August 29, 2020: Knock Knock</a>\n",
      "-1\n",
      "<a class=\"topictitle\" href=\"./viewtopic.php?f=1&amp;t=20714&amp;sid=1db7ae6bfce4002b7ce90fb2253b82d5\">Comic for August 22, 2020: Karen Clues In</a>\n",
      "-1\n",
      "<a class=\"topictitle\" href=\"./viewtopic.php?f=1&amp;t=20710&amp;sid=1db7ae6bfce4002b7ce90fb2253b82d5\">Comic for August 15, 2020: Interrogation</a>\n",
      "-1\n",
      "<a class=\"topictitle\" href=\"./viewtopic.php?f=1&amp;t=20705&amp;sid=1db7ae6bfce4002b7ce90fb2253b82d5\">Comic for August 1,2020: Saved by the Spy</a>\n",
      "-1\n",
      "<a class=\"topictitle\" href=\"./viewtopic.php?f=1&amp;t=20704&amp;sid=1db7ae6bfce4002b7ce90fb2253b82d5\">Comic for July 25, 2020: Watch Your Step</a>\n",
      "-1\n",
      "<a class=\"topictitle\" href=\"./viewtopic.php?f=1&amp;t=20701&amp;sid=1db7ae6bfce4002b7ce90fb2253b82d5\">Comic for July 22, 2020: Trapped in the Middle</a>\n",
      "-1\n",
      "<a class=\"topictitle\" href=\"./viewtopic.php?f=1&amp;t=20644&amp;sid=1db7ae6bfce4002b7ce90fb2253b82d5\">Transformation Lifespan</a>\n",
      "-1\n",
      "<a class=\"topictitle\" href=\"./viewtopic.php?f=1&amp;t=20703&amp;sid=1db7ae6bfce4002b7ce90fb2253b82d5\">I knew it! (spoiler alert)</a>\n",
      "-1\n",
      "<a class=\"topictitle\" href=\"./viewtopic.php?f=1&amp;t=8710&amp;sid=1db7ae6bfce4002b7ce90fb2253b82d5\">Panel Shuffle</a>\n",
      "-1\n",
      "<a class=\"topictitle\" href=\"./viewtopic.php?f=1&amp;t=20695&amp;sid=1db7ae6bfce4002b7ce90fb2253b82d5\">Comic for July 12, 2020: The Rose Garden</a>\n",
      "-1\n",
      "<a class=\"topictitle\" href=\"./viewtopic.php?f=1&amp;t=20692&amp;sid=1db7ae6bfce4002b7ce90fb2253b82d5\">Comic for June 27, 2020: The Painting Pt. 2</a>\n",
      "-1\n"
     ]
    }
   ],
   "source": [
    "topics_lits =listas[1]\n",
    "topics_lits.find_all(class_='row-item')\n",
    "for topic in topics_lits:\n",
    "    print(topic.find('a'))"
   ]
  },
  {
   "cell_type": "code",
   "execution_count": null,
   "metadata": {},
   "outputs": [],
   "source": []
  }
 ],
 "metadata": {
  "kernelspec": {
   "display_name": "Python 3",
   "language": "python",
   "name": "python3"
  },
  "language_info": {
   "codemirror_mode": {
    "name": "ipython",
    "version": 3
   },
   "file_extension": ".py",
   "mimetype": "text/x-python",
   "name": "python",
   "nbconvert_exporter": "python",
   "pygments_lexer": "ipython3",
   "version": "3.6.9"
  }
 },
 "nbformat": 4,
 "nbformat_minor": 4
}
